{
 "cells": [
  {
   "cell_type": "code",
   "execution_count": 1,
   "id": "2a8d33a7",
   "metadata": {},
   "outputs": [
    {
     "name": "stdout",
     "output_type": "stream",
     "text": [
      "**Author**: Yann LeCun, Corinna Cortes, Christopher J.C. Burges  \n",
      "**Source**: [MNIST Website](http://yann.lecun.com/exdb/mnist/) - Date unknown  \n",
      "**Please cite**:  \n",
      "\n",
      "The MNIST database of handwritten digits with 784 features, raw data available at: http://yann.lecun.com/exdb/mnist/. It can be split in a training set of the first 60,000 examples, and a test set of 10,000 examples  \n",
      "\n",
      "It is a subset of a larger set available from NIST. The digits have been size-normalized and centered in a fixed-size image. It is a good database for people who want to try learning techniques and pattern recognition methods on real-world data while spending minimal efforts on preprocessing and formatting. The original black and white (bilevel) images from NIST were size normalized to fit in a 20x20 pixel box while preserving their aspect ratio. The resulting images contain grey levels as a result of the anti-aliasing technique used by the normalization algorithm. the images were centered in a 28x28 image by computing the center of mass of the pixels, and translating the image so as to position this point at the center of the 28x28 field.  \n",
      "\n",
      "With some classification methods (particularly template-based methods, such as SVM and K-nearest neighbors), the error rate improves when the digits are centered by bounding box rather than center of mass. If you do this kind of pre-processing, you should report it in your publications. The MNIST database was constructed from NIST's NIST originally designated SD-3 as their training set and SD-1 as their test set. However, SD-3 is much cleaner and easier to recognize than SD-1. The reason for this can be found on the fact that SD-3 was collected among Census Bureau employees, while SD-1 was collected among high-school students. Drawing sensible conclusions from learning experiments requires that the result be independent of the choice of training set and test among the complete set of samples. Therefore it was necessary to build a new database by mixing NIST's datasets.  \n",
      "\n",
      "The MNIST training set is composed of 30,000 patterns from SD-3 and 30,000 patterns from SD-1. Our test set was composed of 5,000 patterns from SD-3 and 5,000 patterns from SD-1. The 60,000 pattern training set contained examples from approximately 250 writers. We made sure that the sets of writers of the training set and test set were disjoint. SD-1 contains 58,527 digit images written by 500 different writers. In contrast to SD-3, where blocks of data from each writer appeared in sequence, the data in SD-1 is scrambled. Writer identities for SD-1 is available and we used this information to unscramble the writers. We then split SD-1 in two: characters written by the first 250 writers went into our new training set. The remaining 250 writers were placed in our test set. Thus we had two sets with nearly 30,000 examples each. The new training set was completed with enough examples from SD-3, starting at pattern # 0, to make a full set of 60,000 training patterns. Similarly, the new test set was completed with SD-3 examples starting at pattern # 35,000 to make a full set with 60,000 test patterns. Only a subset of 10,000 test images (5,000 from SD-1 and 5,000 from SD-3) is available on this site. The full 60,000 sample training set is available.\n",
      "\n",
      "Downloaded from openml.org.\n"
     ]
    },
    {
     "data": {
      "text/plain": [
       "dict_keys(['data', 'target', 'frame', 'categories', 'feature_names', 'target_names', 'DESCR', 'details', 'url'])"
      ]
     },
     "execution_count": 1,
     "metadata": {},
     "output_type": "execute_result"
    }
   ],
   "source": [
    "# Unduh Dataset MNIST\n",
    "from sklearn.datasets import fetch_openml\n",
    "mnist = fetch_openml('mnist_784',parser='auto')\n",
    "# Baca deskripsi dataset\n",
    "# Tahap ini mungkin diperlukan untuk lebih memahami dataset\n",
    "print(mnist.DESCR)\n",
    "# Inspeksi semua key dalam dataset\n",
    "# Cara ini digunakan untuk memahami struktur dari dataset MNIST\n",
    "mnist.keys()"
   ]
  },
  {
   "cell_type": "code",
   "execution_count": 2,
   "id": "ddccf97d",
   "metadata": {},
   "outputs": [
    {
     "data": {
      "text/plain": [
       "0        5\n",
       "1        0\n",
       "2        4\n",
       "3        1\n",
       "4        9\n",
       "        ..\n",
       "69995    2\n",
       "69996    3\n",
       "69997    4\n",
       "69998    5\n",
       "69999    6\n",
       "Name: class, Length: 70000, dtype: category\n",
       "Categories (10, object): ['0', '1', '2', '3', ..., '6', '7', '8', '9']"
      ]
     },
     "execution_count": 2,
     "metadata": {},
     "output_type": "execute_result"
    }
   ],
   "source": [
    "mnist['target']"
   ]
  },
  {
   "cell_type": "code",
   "execution_count": 3,
   "id": "f740053c",
   "metadata": {},
   "outputs": [
    {
     "data": {
      "text/html": [
       "<div>\n",
       "<style scoped>\n",
       "    .dataframe tbody tr th:only-of-type {\n",
       "        vertical-align: middle;\n",
       "    }\n",
       "\n",
       "    .dataframe tbody tr th {\n",
       "        vertical-align: top;\n",
       "    }\n",
       "\n",
       "    .dataframe thead th {\n",
       "        text-align: right;\n",
       "    }\n",
       "</style>\n",
       "<table border=\"1\" class=\"dataframe\">\n",
       "  <thead>\n",
       "    <tr style=\"text-align: right;\">\n",
       "      <th></th>\n",
       "      <th>pixel1</th>\n",
       "      <th>pixel2</th>\n",
       "      <th>pixel3</th>\n",
       "      <th>pixel4</th>\n",
       "      <th>pixel5</th>\n",
       "      <th>pixel6</th>\n",
       "      <th>pixel7</th>\n",
       "      <th>pixel8</th>\n",
       "      <th>pixel9</th>\n",
       "      <th>pixel10</th>\n",
       "      <th>...</th>\n",
       "      <th>pixel775</th>\n",
       "      <th>pixel776</th>\n",
       "      <th>pixel777</th>\n",
       "      <th>pixel778</th>\n",
       "      <th>pixel779</th>\n",
       "      <th>pixel780</th>\n",
       "      <th>pixel781</th>\n",
       "      <th>pixel782</th>\n",
       "      <th>pixel783</th>\n",
       "      <th>pixel784</th>\n",
       "    </tr>\n",
       "  </thead>\n",
       "  <tbody>\n",
       "    <tr>\n",
       "      <th>0</th>\n",
       "      <td>0</td>\n",
       "      <td>0</td>\n",
       "      <td>0</td>\n",
       "      <td>0</td>\n",
       "      <td>0</td>\n",
       "      <td>0</td>\n",
       "      <td>0</td>\n",
       "      <td>0</td>\n",
       "      <td>0</td>\n",
       "      <td>0</td>\n",
       "      <td>...</td>\n",
       "      <td>0</td>\n",
       "      <td>0</td>\n",
       "      <td>0</td>\n",
       "      <td>0</td>\n",
       "      <td>0</td>\n",
       "      <td>0</td>\n",
       "      <td>0</td>\n",
       "      <td>0</td>\n",
       "      <td>0</td>\n",
       "      <td>0</td>\n",
       "    </tr>\n",
       "    <tr>\n",
       "      <th>1</th>\n",
       "      <td>0</td>\n",
       "      <td>0</td>\n",
       "      <td>0</td>\n",
       "      <td>0</td>\n",
       "      <td>0</td>\n",
       "      <td>0</td>\n",
       "      <td>0</td>\n",
       "      <td>0</td>\n",
       "      <td>0</td>\n",
       "      <td>0</td>\n",
       "      <td>...</td>\n",
       "      <td>0</td>\n",
       "      <td>0</td>\n",
       "      <td>0</td>\n",
       "      <td>0</td>\n",
       "      <td>0</td>\n",
       "      <td>0</td>\n",
       "      <td>0</td>\n",
       "      <td>0</td>\n",
       "      <td>0</td>\n",
       "      <td>0</td>\n",
       "    </tr>\n",
       "    <tr>\n",
       "      <th>2</th>\n",
       "      <td>0</td>\n",
       "      <td>0</td>\n",
       "      <td>0</td>\n",
       "      <td>0</td>\n",
       "      <td>0</td>\n",
       "      <td>0</td>\n",
       "      <td>0</td>\n",
       "      <td>0</td>\n",
       "      <td>0</td>\n",
       "      <td>0</td>\n",
       "      <td>...</td>\n",
       "      <td>0</td>\n",
       "      <td>0</td>\n",
       "      <td>0</td>\n",
       "      <td>0</td>\n",
       "      <td>0</td>\n",
       "      <td>0</td>\n",
       "      <td>0</td>\n",
       "      <td>0</td>\n",
       "      <td>0</td>\n",
       "      <td>0</td>\n",
       "    </tr>\n",
       "    <tr>\n",
       "      <th>3</th>\n",
       "      <td>0</td>\n",
       "      <td>0</td>\n",
       "      <td>0</td>\n",
       "      <td>0</td>\n",
       "      <td>0</td>\n",
       "      <td>0</td>\n",
       "      <td>0</td>\n",
       "      <td>0</td>\n",
       "      <td>0</td>\n",
       "      <td>0</td>\n",
       "      <td>...</td>\n",
       "      <td>0</td>\n",
       "      <td>0</td>\n",
       "      <td>0</td>\n",
       "      <td>0</td>\n",
       "      <td>0</td>\n",
       "      <td>0</td>\n",
       "      <td>0</td>\n",
       "      <td>0</td>\n",
       "      <td>0</td>\n",
       "      <td>0</td>\n",
       "    </tr>\n",
       "    <tr>\n",
       "      <th>4</th>\n",
       "      <td>0</td>\n",
       "      <td>0</td>\n",
       "      <td>0</td>\n",
       "      <td>0</td>\n",
       "      <td>0</td>\n",
       "      <td>0</td>\n",
       "      <td>0</td>\n",
       "      <td>0</td>\n",
       "      <td>0</td>\n",
       "      <td>0</td>\n",
       "      <td>...</td>\n",
       "      <td>0</td>\n",
       "      <td>0</td>\n",
       "      <td>0</td>\n",
       "      <td>0</td>\n",
       "      <td>0</td>\n",
       "      <td>0</td>\n",
       "      <td>0</td>\n",
       "      <td>0</td>\n",
       "      <td>0</td>\n",
       "      <td>0</td>\n",
       "    </tr>\n",
       "    <tr>\n",
       "      <th>...</th>\n",
       "      <td>...</td>\n",
       "      <td>...</td>\n",
       "      <td>...</td>\n",
       "      <td>...</td>\n",
       "      <td>...</td>\n",
       "      <td>...</td>\n",
       "      <td>...</td>\n",
       "      <td>...</td>\n",
       "      <td>...</td>\n",
       "      <td>...</td>\n",
       "      <td>...</td>\n",
       "      <td>...</td>\n",
       "      <td>...</td>\n",
       "      <td>...</td>\n",
       "      <td>...</td>\n",
       "      <td>...</td>\n",
       "      <td>...</td>\n",
       "      <td>...</td>\n",
       "      <td>...</td>\n",
       "      <td>...</td>\n",
       "      <td>...</td>\n",
       "    </tr>\n",
       "    <tr>\n",
       "      <th>69995</th>\n",
       "      <td>0</td>\n",
       "      <td>0</td>\n",
       "      <td>0</td>\n",
       "      <td>0</td>\n",
       "      <td>0</td>\n",
       "      <td>0</td>\n",
       "      <td>0</td>\n",
       "      <td>0</td>\n",
       "      <td>0</td>\n",
       "      <td>0</td>\n",
       "      <td>...</td>\n",
       "      <td>0</td>\n",
       "      <td>0</td>\n",
       "      <td>0</td>\n",
       "      <td>0</td>\n",
       "      <td>0</td>\n",
       "      <td>0</td>\n",
       "      <td>0</td>\n",
       "      <td>0</td>\n",
       "      <td>0</td>\n",
       "      <td>0</td>\n",
       "    </tr>\n",
       "    <tr>\n",
       "      <th>69996</th>\n",
       "      <td>0</td>\n",
       "      <td>0</td>\n",
       "      <td>0</td>\n",
       "      <td>0</td>\n",
       "      <td>0</td>\n",
       "      <td>0</td>\n",
       "      <td>0</td>\n",
       "      <td>0</td>\n",
       "      <td>0</td>\n",
       "      <td>0</td>\n",
       "      <td>...</td>\n",
       "      <td>0</td>\n",
       "      <td>0</td>\n",
       "      <td>0</td>\n",
       "      <td>0</td>\n",
       "      <td>0</td>\n",
       "      <td>0</td>\n",
       "      <td>0</td>\n",
       "      <td>0</td>\n",
       "      <td>0</td>\n",
       "      <td>0</td>\n",
       "    </tr>\n",
       "    <tr>\n",
       "      <th>69997</th>\n",
       "      <td>0</td>\n",
       "      <td>0</td>\n",
       "      <td>0</td>\n",
       "      <td>0</td>\n",
       "      <td>0</td>\n",
       "      <td>0</td>\n",
       "      <td>0</td>\n",
       "      <td>0</td>\n",
       "      <td>0</td>\n",
       "      <td>0</td>\n",
       "      <td>...</td>\n",
       "      <td>0</td>\n",
       "      <td>0</td>\n",
       "      <td>0</td>\n",
       "      <td>0</td>\n",
       "      <td>0</td>\n",
       "      <td>0</td>\n",
       "      <td>0</td>\n",
       "      <td>0</td>\n",
       "      <td>0</td>\n",
       "      <td>0</td>\n",
       "    </tr>\n",
       "    <tr>\n",
       "      <th>69998</th>\n",
       "      <td>0</td>\n",
       "      <td>0</td>\n",
       "      <td>0</td>\n",
       "      <td>0</td>\n",
       "      <td>0</td>\n",
       "      <td>0</td>\n",
       "      <td>0</td>\n",
       "      <td>0</td>\n",
       "      <td>0</td>\n",
       "      <td>0</td>\n",
       "      <td>...</td>\n",
       "      <td>0</td>\n",
       "      <td>0</td>\n",
       "      <td>0</td>\n",
       "      <td>0</td>\n",
       "      <td>0</td>\n",
       "      <td>0</td>\n",
       "      <td>0</td>\n",
       "      <td>0</td>\n",
       "      <td>0</td>\n",
       "      <td>0</td>\n",
       "    </tr>\n",
       "    <tr>\n",
       "      <th>69999</th>\n",
       "      <td>0</td>\n",
       "      <td>0</td>\n",
       "      <td>0</td>\n",
       "      <td>0</td>\n",
       "      <td>0</td>\n",
       "      <td>0</td>\n",
       "      <td>0</td>\n",
       "      <td>0</td>\n",
       "      <td>0</td>\n",
       "      <td>0</td>\n",
       "      <td>...</td>\n",
       "      <td>0</td>\n",
       "      <td>0</td>\n",
       "      <td>0</td>\n",
       "      <td>0</td>\n",
       "      <td>0</td>\n",
       "      <td>0</td>\n",
       "      <td>0</td>\n",
       "      <td>0</td>\n",
       "      <td>0</td>\n",
       "      <td>0</td>\n",
       "    </tr>\n",
       "  </tbody>\n",
       "</table>\n",
       "<p>70000 rows × 784 columns</p>\n",
       "</div>"
      ],
      "text/plain": [
       "       pixel1  pixel2  pixel3  pixel4  pixel5  pixel6  pixel7  pixel8  pixel9  \\\n",
       "0           0       0       0       0       0       0       0       0       0   \n",
       "1           0       0       0       0       0       0       0       0       0   \n",
       "2           0       0       0       0       0       0       0       0       0   \n",
       "3           0       0       0       0       0       0       0       0       0   \n",
       "4           0       0       0       0       0       0       0       0       0   \n",
       "...       ...     ...     ...     ...     ...     ...     ...     ...     ...   \n",
       "69995       0       0       0       0       0       0       0       0       0   \n",
       "69996       0       0       0       0       0       0       0       0       0   \n",
       "69997       0       0       0       0       0       0       0       0       0   \n",
       "69998       0       0       0       0       0       0       0       0       0   \n",
       "69999       0       0       0       0       0       0       0       0       0   \n",
       "\n",
       "       pixel10  ...  pixel775  pixel776  pixel777  pixel778  pixel779  \\\n",
       "0            0  ...         0         0         0         0         0   \n",
       "1            0  ...         0         0         0         0         0   \n",
       "2            0  ...         0         0         0         0         0   \n",
       "3            0  ...         0         0         0         0         0   \n",
       "4            0  ...         0         0         0         0         0   \n",
       "...        ...  ...       ...       ...       ...       ...       ...   \n",
       "69995        0  ...         0         0         0         0         0   \n",
       "69996        0  ...         0         0         0         0         0   \n",
       "69997        0  ...         0         0         0         0         0   \n",
       "69998        0  ...         0         0         0         0         0   \n",
       "69999        0  ...         0         0         0         0         0   \n",
       "\n",
       "       pixel780  pixel781  pixel782  pixel783  pixel784  \n",
       "0             0         0         0         0         0  \n",
       "1             0         0         0         0         0  \n",
       "2             0         0         0         0         0  \n",
       "3             0         0         0         0         0  \n",
       "4             0         0         0         0         0  \n",
       "...         ...       ...       ...       ...       ...  \n",
       "69995         0         0         0         0         0  \n",
       "69996         0         0         0         0         0  \n",
       "69997         0         0         0         0         0  \n",
       "69998         0         0         0         0         0  \n",
       "69999         0         0         0         0         0  \n",
       "\n",
       "[70000 rows x 784 columns]"
      ]
     },
     "execution_count": 3,
     "metadata": {},
     "output_type": "execute_result"
    }
   ],
   "source": [
    "mnist['data']"
   ]
  },
  {
   "cell_type": "code",
   "execution_count": 4,
   "id": "3e68dc91",
   "metadata": {},
   "outputs": [
    {
     "data": {
      "image/png": "[encoded data removed]",
      "text/plain": [
       "<Figure size 1000x500 with 1 Axes>"
      ]
     },
     "metadata": {},
     "output_type": "display_data"
    }
   ],
   "source": [
    "import matplotlib as mpl\n",
    "import matplotlib.pyplot as plt\n",
    "import matplotlib.image as img\n",
    "import numpy as np\n",
    "\n",
    "target = mnist.target.astype(int)\n",
    "\n",
    "# Calculate the count/sum of each class\n",
    "class_counts = np.bincount(target)\n",
    "\n",
    "# Create a bar chart to visualize the class counts\n",
    "plt.figure(figsize=(10, 5))\n",
    "plt.bar(range(len(class_counts)), class_counts, tick_label=range(len(class_counts)))\n",
    "plt.xlabel('Class Label')\n",
    "plt.ylabel('Count')\n",
    "plt.title('Count of Samples per Class in MNIST Dataset')\n",
    "plt.show()\n",
    "\n"
   ]
  },
  {
   "cell_type": "code",
   "execution_count": 5,
   "id": "18853099",
   "metadata": {},
   "outputs": [],
   "source": [
    "#pembagian variable independen dan dependen/ekstraksi fitur\n",
    "X, y = mnist['data'].values, mnist['target'].values"
   ]
  },
  {
   "cell_type": "code",
   "execution_count": 6,
   "id": "4ac88f0f",
   "metadata": {},
   "outputs": [
    {
     "data": {
      "image/png": "[encoded data removed]",
      "text/plain": [
       "<Figure size 640x480 with 15 Axes>"
      ]
     },
     "metadata": {},
     "output_type": "display_data"
    }
   ],
   "source": [
    "#Visualisasi data\n",
    "\n",
    "fig, ax = plt.subplots(3, 5)\n",
    "for i, axi in enumerate(ax.flat):\n",
    "    axi.imshow(X[i].reshape(28, 28), cmap='bone')\n",
    "    axi.set(xticks=[], yticks=[],\n",
    "            xlabel=y[i])"
   ]
  },
  {
   "cell_type": "markdown",
   "id": "19164300",
   "metadata": {},
   "source": [
    "# Data train test 80:20"
   ]
  },
  {
   "cell_type": "code",
   "execution_count": 7,
   "id": "8fa3e1a7",
   "metadata": {},
   "outputs": [],
   "source": [
    "from sklearn.model_selection import train_test_split\n",
    "X_train, X_test, y_train, y_test = train_test_split(X, y, test_size=0.2, random_state=50) #data 80:20"
   ]
  },
  {
   "cell_type": "markdown",
   "id": "f53fd7e8",
   "metadata": {},
   "source": [
    "# SVM"
   ]
  },
  {
   "cell_type": "code",
   "execution_count": null,
   "id": "7ef84009",
   "metadata": {},
   "outputs": [],
   "source": [
    "from sklearn.svm import SVC\n",
    "svm_clf = SVC(decision_function_shape = 'ovo')\n",
    "%time svm_clf.fit(X_train, y_train)\n",
    "SVC(decision_function_shape='ovo')"
   ]
  },
  {
   "cell_type": "code",
   "execution_count": null,
   "id": "7c0b0894",
   "metadata": {},
   "outputs": [],
   "source": [
    "# Prediction in training\n",
    "%time training_prediction = svm_clf.predict(X_train)\n",
    "print(\"Prediction in training:\",training_prediction)\n",
    "print(\"Actual values:\",y_train)"
   ]
  },
  {
   "cell_type": "code",
   "execution_count": null,
   "id": "bf0a35ae",
   "metadata": {},
   "outputs": [],
   "source": [
    "# Prediction in testing\n",
    "%time testing_prediction = svm_clf.predict(X_test)\n",
    "print(\"Prediction in testing:\",testing_prediction)\n",
    "print(\"Actual values:\",y_test)"
   ]
  },
  {
   "cell_type": "code",
   "execution_count": null,
   "id": "bccb950b",
   "metadata": {},
   "outputs": [],
   "source": [
    "# hasil label pada data testing\n",
    "\n",
    "fig, ax = plt.subplots(4, 6)\n",
    "for i, axi in enumerate(ax.flat):\n",
    "    axi.imshow(X_test[i].reshape(28, 28), cmap='bone')\n",
    "    axi.set(xticks=[], yticks=[])\n",
    "    axi.set_xlabel(testing_prediction[i],\n",
    "                   color='black' if testing_prediction[i] == y_test[i] else 'red')\n",
    "fig.suptitle('Predicted Names; Incorrect Labels in Red', size=14)"
   ]
  },
  {
   "cell_type": "code",
   "execution_count": null,
   "id": "dbf1c4b4",
   "metadata": {},
   "outputs": [],
   "source": [
    "from sklearn.metrics import accuracy_score,classification_report, confusion_matrix\n",
    "acc_train = accuracy_score(y_train, training_prediction)\n",
    "acc_test = accuracy_score(y_test, testing_prediction)\n",
    "print(\"accuracy train data:\",acc_train)\n",
    "print(\"accuracy test data:\",acc_test)\n",
    "# Mengevaluasi model pada data pengujian\n",
    "print(\"\\nPrediction in testing:\")\n",
    "print(classification_report(y_test, testing_prediction))\n",
    "print(\"Confusion Matrix for testing:\")\n",
    "print(confusion_matrix(y_test, testing_prediction))"
   ]
  },
  {
   "cell_type": "markdown",
   "id": "b049a6ca",
   "metadata": {},
   "source": [
    "# Bernoulli Naive Bayes"
   ]
  },
  {
   "cell_type": "code",
   "execution_count": null,
   "id": "7d5ed61d",
   "metadata": {},
   "outputs": [],
   "source": [
    "from sklearn.naive_bayes import BernoulliNB  # Mengganti GaussianNB dengan BernoulliNB\n",
    "\n",
    "naive_bayes_model = BernoulliNB()\n",
    "# Melatih model menggunakan data pelatihan\n",
    "%time naive_bayes_model.fit(X_train, y_train)"
   ]
  },
  {
   "cell_type": "code",
   "execution_count": null,
   "id": "c37d51e9",
   "metadata": {},
   "outputs": [],
   "source": [
    "# Prediction in training\n",
    "%time training_prediction = naive_bayes_model.predict(X_train)\n",
    "print(\"Prediction in testing:\",y_pred_nb)\n",
    "print(\"Actual values:\",training_prediction)"
   ]
  },
  {
   "cell_type": "code",
   "execution_count": null,
   "id": "4cc2c8af",
   "metadata": {},
   "outputs": [],
   "source": [
    "# Prediction in testing\n",
    "%time testing_prediction = naive_bayes_model.predict(X_test)\n",
    "print(\"Prediction in testing:\",y_pred_nb)\n",
    "print(\"Actual values:\",training_prediction)"
   ]
  },
  {
   "cell_type": "code",
   "execution_count": null,
   "id": "fc51471d",
   "metadata": {},
   "outputs": [],
   "source": [
    "# hasil label pada data testing\n",
    "\n",
    "fig, ax = plt.subplots(4, 6)\n",
    "for i, axi in enumerate(ax.flat):\n",
    "    axi.imshow(X_test[i].reshape(28, 28), cmap='bone')\n",
    "    axi.set(xticks=[], yticks=[])\n",
    "    axi.set_xlabel(testing_prediction[i],\n",
    "                   color='black' if testing_prediction[i] == y_test[i] else 'red')\n",
    "fig.suptitle('Predicted Names; Incorrect Labels in Red', size=14)"
   ]
  },
  {
   "cell_type": "code",
   "execution_count": null,
   "id": "61ce641b",
   "metadata": {
    "scrolled": false
   },
   "outputs": [],
   "source": [
    "from sklearn.metrics import accuracy_score,classification_report, confusion_matrix\n",
    "acc_train = accuracy_score(y_train, training_prediction)\n",
    "acc_test = accuracy_score(y_test, testing_prediction)\n",
    "print(\"accuracy train data:\",acc_train)\n",
    "print(\"accuracy test data:\",acc_test)\n",
    "# Mengevaluasi model pada data pengujian\n",
    "print(\"\\nPrediction in testing:\")\n",
    "print(classification_report(y_test, testing_prediction))\n",
    "print(\"Confusion Matrix for testing:\")\n",
    "print(confusion_matrix(y_test, testing_prediction))"
   ]
  },
  {
   "cell_type": "markdown",
   "id": "996b8bcd",
   "metadata": {},
   "source": [
    "# Data train test 70:30"
   ]
  },
  {
   "cell_type": "code",
   "execution_count": null,
   "id": "7b328980",
   "metadata": {},
   "outputs": [],
   "source": [
    "from sklearn.model_selection import train_test_split\n",
    "X_train, X_test, y_train, y_test = train_test_split(X, y, test_size=0.3, random_state=50) #data 70:30"
   ]
  },
  {
   "cell_type": "markdown",
   "id": "c7a81e1d",
   "metadata": {},
   "source": [
    "# SVM"
   ]
  },
  {
   "cell_type": "code",
   "execution_count": null,
   "id": "c7010e06",
   "metadata": {},
   "outputs": [],
   "source": [
    "from sklearn.svm import SVC\n",
    "svm_clf = SVC(decision_function_shape = 'ovo')\n",
    "%time svm_clf.fit(X_train, y_train)\n",
    "SVC(decision_function_shape='ovo')"
   ]
  },
  {
   "cell_type": "code",
   "execution_count": null,
   "id": "909b4b71",
   "metadata": {},
   "outputs": [],
   "source": [
    "# Prediction in training\n",
    "%time training_prediction = svm_clf.predict(X_train)\n",
    "print(\"Prediction in training:\",training_prediction)\n",
    "print(\"Actual values:\",y_train)"
   ]
  },
  {
   "cell_type": "code",
   "execution_count": null,
   "id": "88bab9f7",
   "metadata": {},
   "outputs": [],
   "source": [
    "# Prediction in testing\n",
    "%time testing_prediction = svm_clf.predict(X_test)\n",
    "print(\"Prediction in testing:\",testing_prediction)\n",
    "print(\"Actual values:\",y_test)"
   ]
  },
  {
   "cell_type": "code",
   "execution_count": null,
   "id": "a349c79e",
   "metadata": {},
   "outputs": [],
   "source": [
    "# hasil label pada data testing\n",
    "\n",
    "fig, ax = plt.subplots(4, 6)\n",
    "for i, axi in enumerate(ax.flat):\n",
    "    axi.imshow(X_test[i].reshape(28, 28), cmap='bone')\n",
    "    axi.set(xticks=[], yticks=[])\n",
    "    axi.set_xlabel(testing_prediction[i],\n",
    "                   color='black' if testing_prediction[i] == y_test[i] else 'red')\n",
    "fig.suptitle('Predicted Names; Incorrect Labels in Red', size=14)"
   ]
  },
  {
   "cell_type": "code",
   "execution_count": null,
   "id": "5c888b3b",
   "metadata": {},
   "outputs": [],
   "source": [
    "from sklearn.metrics import accuracy_score,classification_report, confusion_matrix\n",
    "acc_train = accuracy_score(y_train, training_prediction)\n",
    "acc_test = accuracy_score(y_test, testing_prediction)\n",
    "print(\"accuracy train data:\",acc_train)\n",
    "print(\"accuracy test data:\",acc_test)\n",
    "# Mengevaluasi model pada data pengujian\n",
    "print(\"\\nPrediction in testing:\")\n",
    "print(classification_report(y_test, testing_prediction))\n",
    "print(\"Confusion Matrix for testing:\")\n",
    "print(confusion_matrix(y_test, testing_prediction))"
   ]
  },
  {
   "cell_type": "markdown",
   "id": "2baa76ba",
   "metadata": {},
   "source": [
    "# Bernoulli Naive Bayes"
   ]
  },
  {
   "cell_type": "code",
   "execution_count": null,
   "id": "59cfc4c5",
   "metadata": {},
   "outputs": [],
   "source": [
    "from sklearn.naive_bayes import BernoulliNB  # Mengganti GaussianNB dengan BernoulliNB\n",
    "\n",
    "naive_bayes_model = BernoulliNB()\n",
    "# Melatih model menggunakan data pelatihan\n",
    "%time naive_bayes_model.fit(X_train, y_train)"
   ]
  },
  {
   "cell_type": "code",
   "execution_count": null,
   "id": "3ff905d9",
   "metadata": {},
   "outputs": [],
   "source": [
    "# Prediction in training\n",
    "%time training_prediction = naive_bayes_model.predict(X_train)\n",
    "print(\"Prediction in testing:\",y_pred_nb)\n",
    "print(\"Actual values:\",training_prediction)"
   ]
  },
  {
   "cell_type": "code",
   "execution_count": null,
   "id": "76f5faf2",
   "metadata": {},
   "outputs": [],
   "source": [
    "# Prediction in testing\n",
    "%time testing_prediction = naive_bayes_model.predict(X_test)\n",
    "print(\"Prediction in testing:\",y_pred_nb)\n",
    "print(\"Actual values:\",training_prediction)"
   ]
  },
  {
   "cell_type": "code",
   "execution_count": null,
   "id": "3263f526",
   "metadata": {},
   "outputs": [],
   "source": [
    "# hasil label pada data testing\n",
    "\n",
    "fig, ax = plt.subplots(4, 6)\n",
    "for i, axi in enumerate(ax.flat):\n",
    "    axi.imshow(X_test[i].reshape(28, 28), cmap='bone')\n",
    "    axi.set(xticks=[], yticks=[])\n",
    "    axi.set_xlabel(testing_prediction[i],\n",
    "                   color='black' if testing_prediction[i] == y_test[i] else 'red')\n",
    "fig.suptitle('Predicted Names; Incorrect Labels in Red', size=14)"
   ]
  },
  {
   "cell_type": "code",
   "execution_count": null,
   "id": "25831433",
   "metadata": {
    "scrolled": false
   },
   "outputs": [],
   "source": [
    "from sklearn.metrics import accuracy_score,classification_report, confusion_matrix\n",
    "acc_train = accuracy_score(y_train, training_prediction)\n",
    "acc_test = accuracy_score(y_test, testing_prediction)\n",
    "print(\"accuracy train data:\",acc_train)\n",
    "print(\"accuracy test data:\",acc_test)\n",
    "# Mengevaluasi model pada data pengujian\n",
    "print(\"\\nPrediction in testing:\")\n",
    "print(classification_report(y_test, testing_prediction))\n",
    "print(\"Confusion Matrix for testing:\")\n",
    "print(confusion_matrix(y_test, testing_prediction))"
   ]
  },
  {
   "cell_type": "markdown",
   "id": "633c7a10",
   "metadata": {},
   "source": [
    "# Data train test 90:10"
   ]
  },
  {
   "cell_type": "code",
   "execution_count": null,
   "id": "e2e1b265",
   "metadata": {},
   "outputs": [],
   "source": [
    "from sklearn.model_selection import train_test_split\n",
    "X_train, X_test, y_train, y_test = train_test_split(X, y, test_size=0.1, random_state=50) #data 90:10"
   ]
  },
  {
   "cell_type": "markdown",
   "id": "0b6b6b0d",
   "metadata": {},
   "source": [
    "# SVM"
   ]
  },
  {
   "cell_type": "code",
   "execution_count": null,
   "id": "fea01819",
   "metadata": {},
   "outputs": [],
   "source": [
    "from sklearn.svm import SVC\n",
    "svm_clf = SVC(decision_function_shape = 'ovo')\n",
    "%time svm_clf.fit(X_train, y_train)\n",
    "SVC(decision_function_shape='ovo')"
   ]
  },
  {
   "cell_type": "code",
   "execution_count": null,
   "id": "816d2bd3",
   "metadata": {},
   "outputs": [],
   "source": [
    "# Prediction in training\n",
    "%time training_prediction = svm_clf.predict(X_train)\n",
    "print(\"Prediction in training:\",training_prediction)\n",
    "print(\"Actual values:\",y_train)"
   ]
  },
  {
   "cell_type": "code",
   "execution_count": null,
   "id": "ea06480e",
   "metadata": {},
   "outputs": [],
   "source": [
    "# Prediction in testing\n",
    "%time testing_prediction = svm_clf.predict(X_test)\n",
    "print(\"Prediction in testing:\",testing_prediction)\n",
    "print(\"Actual values:\",y_test)"
   ]
  },
  {
   "cell_type": "code",
   "execution_count": null,
   "id": "6b033280",
   "metadata": {},
   "outputs": [],
   "source": [
    "# hasil label pada data testing\n",
    "\n",
    "fig, ax = plt.subplots(4, 6)\n",
    "for i, axi in enumerate(ax.flat):\n",
    "    axi.imshow(X_test[i].reshape(28, 28), cmap='bone')\n",
    "    axi.set(xticks=[], yticks=[])\n",
    "    axi.set_xlabel(testing_prediction[i],\n",
    "                   color='black' if testing_prediction[i] == y_test[i] else 'red')\n",
    "fig.suptitle('Predicted Names; Incorrect Labels in Red', size=14)"
   ]
  },
  {
   "cell_type": "code",
   "execution_count": null,
   "id": "fb514cac",
   "metadata": {},
   "outputs": [],
   "source": [
    "from sklearn.metrics import accuracy_score,classification_report, confusion_matrix\n",
    "acc_train = accuracy_score(y_train, training_prediction)\n",
    "acc_test = accuracy_score(y_test, testing_prediction)\n",
    "print(\"accuracy train data:\",acc_test)\n",
    "print(\"accuracy test data:\",acc_test)\n",
    "# Mengevaluasi model pada data pengujian\n",
    "print(\"\\nPrediction in testing:\")\n",
    "print(classification_report(y_test, testing_prediction))\n",
    "print(\"Confusion Matrix for testing:\")\n",
    "print(confusion_matrix(y_test, testing_prediction))"
   ]
  },
  {
   "cell_type": "markdown",
   "id": "6ca8de40",
   "metadata": {},
   "source": [
    "# Bernoulli Naive Bayes"
   ]
  },
  {
   "cell_type": "code",
   "execution_count": null,
   "id": "f825cdb9",
   "metadata": {},
   "outputs": [],
   "source": [
    "from sklearn.naive_bayes import BernoulliNB  # Mengganti GaussianNB dengan BernoulliNB\n",
    "\n",
    "naive_bayes_model = BernoulliNB()\n",
    "# Melatih model menggunakan data pelatihan\n",
    "%time naive_bayes_model.fit(X_train, y_train)"
   ]
  },
  {
   "cell_type": "code",
   "execution_count": null,
   "id": "cc0e5ff2",
   "metadata": {},
   "outputs": [],
   "source": [
    "# Prediction in training\n",
    "%time training_prediction = naive_bayes_model.predict(X_train)\n",
    "print(\"Prediction in testing:\",y_pred_nb)\n",
    "print(\"Actual values:\",training_prediction)"
   ]
  },
  {
   "cell_type": "code",
   "execution_count": null,
   "id": "b450edd8",
   "metadata": {},
   "outputs": [],
   "source": [
    "# Prediction in testing\n",
    "%time testing_prediction = naive_bayes_model.predict(X_test)\n",
    "print(\"Prediction in testing:\",y_pred_nb)\n",
    "print(\"Actual values:\",training_prediction)"
   ]
  },
  {
   "cell_type": "code",
   "execution_count": null,
   "id": "bcce18c2",
   "metadata": {},
   "outputs": [],
   "source": [
    "# hasil label pada data testing\n",
    "\n",
    "fig, ax = plt.subplots(4, 6)\n",
    "for i, axi in enumerate(ax.flat):\n",
    "    axi.imshow(X_test[i].reshape(28, 28), cmap='bone')\n",
    "    axi.set(xticks=[], yticks=[])\n",
    "    axi.set_xlabel(testing_prediction[i],\n",
    "                   color='black' if testing_prediction[i] == y_test[i] else 'red')\n",
    "fig.suptitle('Predicted Names; Incorrect Labels in Red', size=14)"
   ]
  },
  {
   "cell_type": "code",
   "execution_count": null,
   "id": "4f9c528e",
   "metadata": {
    "scrolled": false
   },
   "outputs": [],
   "source": [
    "from sklearn.metrics import accuracy_score,classification_report, confusion_matrix\n",
    "acc_train = accuracy_score(y_train, training_prediction)\n",
    "acc_test = accuracy_score(y_test, testing_prediction)\n",
    "print(\"accuracy train data:\",acc_train)\n",
    "print(\"accuracy test data:\",acc_test)\n",
    "# Mengevaluasi model pada data pengujian\n",
    "print(\"\\nPrediction in testing:\")\n",
    "print(classification_report(y_test, testing_prediction))\n",
    "print(\"Confusion Matrix for testing:\")\n",
    "print(confusion_matrix(y_test, testing_prediction))"
   ]
  }
 ],
 "metadata": {
  "kernelspec": {
   "display_name": "Python 3 (ipykernel)",
   "language": "python",
   "name": "python3"
  },
  "language_info": {
   "codemirror_mode": {
    "name": "ipython",
    "version": 3
   },
   "file_extension": ".py",
   "mimetype": "text/x-python",
   "name": "python",
   "nbconvert_exporter": "python",
   "pygments_lexer": "ipython3",
   "version": "3.11.4"
  }
 },
 "nbformat": 4,
 "nbformat_minor": 5
}
